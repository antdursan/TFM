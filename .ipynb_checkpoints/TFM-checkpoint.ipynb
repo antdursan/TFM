{
 "cells": [
  {
   "cell_type": "code",
   "execution_count": 1,
   "id": "277fd90d",
   "metadata": {},
   "outputs": [],
   "source": [
    "import pandas as pd\n",
    "import numpy as np"
   ]
  },
  {
   "cell_type": "code",
   "execution_count": 2,
   "id": "8b8ec255",
   "metadata": {},
   "outputs": [],
   "source": [
    "datos=pd.read_excel('datos1.xlsx')"
   ]
  },
  {
   "cell_type": "code",
   "execution_count": 3,
   "id": "a7b2b281",
   "metadata": {},
   "outputs": [
    {
     "name": "stdout",
     "output_type": "stream",
     "text": [
      "<class 'pandas.core.frame.DataFrame'>\n",
      "RangeIndex: 1441 entries, 0 to 1440\n",
      "Data columns (total 31 columns):\n",
      " #   Column                            Non-Null Count  Dtype  \n",
      "---  ------                            --------------  -----  \n",
      " 0   Marca                             1441 non-null   object \n",
      " 1   Modelo                            1441 non-null   object \n",
      " 2   Precio                            1441 non-null   int64  \n",
      " 3   Versión                           1441 non-null   object \n",
      " 4   Primera matriculación             1441 non-null   object \n",
      " 5   Kilometraje                       1441 non-null   object \n",
      " 6   Carburante                        1441 non-null   object \n",
      " 7   Transmisión                       1441 non-null   object \n",
      " 8   Potencia                          1441 non-null   object \n",
      " 9   Tracción                          1426 non-null   object \n",
      " 10  Tipo de vehículo                  1441 non-null   object \n",
      " 11  Puertas                           1439 non-null   float64\n",
      " 12  Número de asientos                1441 non-null   int64  \n",
      " 13  Color                             1441 non-null   object \n",
      " 14  Tapicería                         1440 non-null   object \n",
      " 15  Tipo de ruedas                    1331 non-null   object \n",
      " 16  Motor original                    1441 non-null   object \n",
      " 17  Cilindrada                        1441 non-null   object \n",
      " 18  Consumo                           1274 non-null   object \n",
      " 19  Clase de eficiencia CO2           1441 non-null   object \n",
      " 20  Emisiones de CO2                  1331 non-null   object \n",
      " 21  Estándar de calidad               1271 non-null   object \n",
      " 22  País de origen                    1441 non-null   object \n",
      " 23  Número de llaves                  1441 non-null   int64  \n",
      " 24  Coche accidentado y reparado      1331 non-null   object \n",
      " 25  La última revisión se realizó el  1286 non-null   object \n",
      " 26  Historial de revisiones           1271 non-null   object \n",
      " 27  Tipo de IVA                       1441 non-null   object \n",
      " 28  ITV válida hasta                  1331 non-null   object \n",
      " 29  Matricula                         1440 non-null   object \n",
      " 30  Número de inventario              1441 non-null   object \n",
      "dtypes: float64(1), int64(3), object(27)\n",
      "memory usage: 349.1+ KB\n"
     ]
    }
   ],
   "source": [
    "datos.info()"
   ]
  },
  {
   "cell_type": "code",
   "execution_count": 4,
   "id": "7ed89c99",
   "metadata": {},
   "outputs": [],
   "source": [
    "#primer paso: modificar variables para poder tratarlas\n",
    "#las fechas se van a convertir en fechas de pandas y luego en días hasta hoy, para que sean números y se puedan comparar\n",
    "datos['Primera matriculación'] = pd.to_datetime(datos['Primera matriculación'], format = '%d.%m.%Y')\n",
    "datos['Días desde matriculación'] = (pd.Timestamp.now() - datos['Primera matriculación']).dt.days\n",
    "datos['La última revisión se realizó el'] = pd.to_datetime(datos['La última revisión se realizó el'], format = '%d.%m.%Y')\n",
    "datos['Días desde revisión'] = (pd.Timestamp.now() - datos['La última revisión se realizó el']).dt.days\n",
    "datos['ITV válida hasta'] = pd.to_datetime(datos['ITV válida hasta'], format = '%d.%m.%Y')\n",
    "datos['Días hasta ITV'] = (datos['ITV válida hasta'] - pd.Timestamp.now()).dt.days"
   ]
  },
  {
   "cell_type": "code",
   "execution_count": 5,
   "id": "b34033b0",
   "metadata": {},
   "outputs": [
    {
     "name": "stderr",
     "output_type": "stream",
     "text": [
      "C:\\Users\\antdu\\AppData\\Local\\Temp\\ipykernel_652\\829532553.py:13: UserWarning: This pattern is interpreted as a regular expression, and has match groups. To actually get the groups, use str.extract.\n",
      "  filtro = datos['Consumo combinado'].isna() & partes.iloc[:,0].str.contains(r'(\\d+(?:\\.\\d+)?) l\\/100 km \\(Combinado')\n"
     ]
    }
   ],
   "source": [
    "#las variables numéricas\n",
    "datos['Kilometraje'] = datos['Kilometraje'].str.replace(' km', '').str.replace('.','').astype(int)\n",
    "datos['Potencia CV'] = datos['Potencia'].str.extract(r'(\\d+) CV \\/ (\\d+) kW').iloc[:,0].astype(int)\n",
    "datos['Potencia kW'] = datos['Potencia'].str.extract(r'(\\d+) CV \\/ (\\d+) kW').iloc[:,1].astype(int)\n",
    "datos['Cilindrada']  = datos['Cilindrada'].str.replace(' ccm', '').astype(int)\n",
    "datos['Emisiones de CO2'] = datos['Emisiones de CO2'].str.replace(' g/km', '').astype(float)\n",
    "\n",
    "#El consumo hay que partirlo en 3\n",
    "partes = datos['Consumo'].str.split(')', expand=True)\n",
    "datos['Consumo ciudad'] = partes.iloc[:,0].str.extract(r'(\\d+(?:\\.\\d+)?) l\\/100 km \\(En la ciudad').astype(float)\n",
    "datos['Consumo combinado'] = partes.iloc[:,1].str.extract(r'(\\d+(?:\\.\\d+)?) l\\/100 km \\(Combinado').astype(float)\n",
    "#arreglo de combinados que aparecen en la primera columna\n",
    "filtro = datos['Consumo combinado'].isna() & partes.iloc[:,0].str.contains(r'(\\d+(?:\\.\\d+)?) l\\/100 km \\(Combinado')\n",
    "datos.loc[filtro, 'Consumo combinado'] = partes.iloc[:,0].str.extract(r'(\\d+(?:\\.\\d+)?) l\\/100 km \\(Combinado').astype(float)\n",
    "\n",
    "datos['Consumo fuera'] = partes.iloc[:,2].str.extract(r'(\\d+(?:\\.\\d+)?) l\\/100 km \\(Fuera de la ciudad').astype(float)"
   ]
  },
  {
   "cell_type": "code",
   "execution_count": null,
   "id": "c61b0e62",
   "metadata": {},
   "outputs": [],
   "source": []
  }
 ],
 "metadata": {
  "kernelspec": {
   "display_name": "Python 3 (ipykernel)",
   "language": "python",
   "name": "python3"
  },
  "language_info": {
   "codemirror_mode": {
    "name": "ipython",
    "version": 3
   },
   "file_extension": ".py",
   "mimetype": "text/x-python",
   "name": "python",
   "nbconvert_exporter": "python",
   "pygments_lexer": "ipython3",
   "version": "3.11.5"
  }
 },
 "nbformat": 4,
 "nbformat_minor": 5
}
